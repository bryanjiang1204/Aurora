{
  "nbformat": 4,
  "nbformat_minor": 0,
  "metadata": {
    "colab": {
      "provenance": [],
      "gpuType": "T4",
      "authorship_tag": "ABX9TyMk/FBiMc73WjRajhkDEXua",
      "include_colab_link": true
    },
    "kernelspec": {
      "name": "python3",
      "display_name": "Python 3"
    },
    "language_info": {
      "name": "python"
    },
    "accelerator": "GPU"
  },
  "cells": [
    {
      "cell_type": "markdown",
      "metadata": {
        "id": "view-in-github",
        "colab_type": "text"
      },
      "source": [
        "<a href=\"https://colab.research.google.com/github/bryanjiang1204/yes/blob/main/Video_Classifier.ipynb\" target=\"_parent\"><img src=\"https://colab.research.google.com/assets/colab-badge.svg\" alt=\"Open In Colab\"/></a>"
      ]
    },
    {
      "cell_type": "code",
      "source": [
        "!pip install fvcore\n",
        "!pip install av\n",
        "!pip install pytorchvideo"
      ],
      "metadata": {
        "id": "LSduxlqccWMY",
        "colab": {
          "base_uri": "https://localhost:8080/"
        },
        "outputId": "d00c32a8-4b19-4ee9-ea3d-b69bdf639fc8"
      },
      "execution_count": null,
      "outputs": [
        {
          "output_type": "stream",
          "name": "stdout",
          "text": [
            "Collecting fvcore\n",
            "  Downloading fvcore-0.1.5.post20221221.tar.gz (50 kB)\n",
            "\u001b[2K     \u001b[90m━━━━━━━━━━━━━━━━━━━━━━━━━━━━━━━━━━━━━━━━\u001b[0m \u001b[32m50.2/50.2 kB\u001b[0m \u001b[31m1.8 MB/s\u001b[0m eta \u001b[36m0:00:00\u001b[0m\n",
            "\u001b[?25h  Preparing metadata (setup.py) ... \u001b[?25l\u001b[?25hdone\n",
            "Requirement already satisfied: numpy in /usr/local/lib/python3.10/dist-packages (from fvcore) (1.23.5)\n",
            "Collecting yacs>=0.1.6 (from fvcore)\n",
            "  Downloading yacs-0.1.8-py3-none-any.whl (14 kB)\n",
            "Requirement already satisfied: pyyaml>=5.1 in /usr/local/lib/python3.10/dist-packages (from fvcore) (6.0.1)\n",
            "Requirement already satisfied: tqdm in /usr/local/lib/python3.10/dist-packages (from fvcore) (4.66.1)\n",
            "Requirement already satisfied: termcolor>=1.1 in /usr/local/lib/python3.10/dist-packages (from fvcore) (2.3.0)\n",
            "Requirement already satisfied: Pillow in /usr/local/lib/python3.10/dist-packages (from fvcore) (9.4.0)\n",
            "Requirement already satisfied: tabulate in /usr/local/lib/python3.10/dist-packages (from fvcore) (0.9.0)\n",
            "Collecting iopath>=0.1.7 (from fvcore)\n",
            "  Downloading iopath-0.1.10.tar.gz (42 kB)\n",
            "\u001b[2K     \u001b[90m━━━━━━━━━━━━━━━━━━━━━━━━━━━━━━━━━━━━━━━━\u001b[0m \u001b[32m42.2/42.2 kB\u001b[0m \u001b[31m5.2 MB/s\u001b[0m eta \u001b[36m0:00:00\u001b[0m\n",
            "\u001b[?25h  Preparing metadata (setup.py) ... \u001b[?25l\u001b[?25hdone\n",
            "Requirement already satisfied: typing_extensions in /usr/local/lib/python3.10/dist-packages (from iopath>=0.1.7->fvcore) (4.5.0)\n",
            "Collecting portalocker (from iopath>=0.1.7->fvcore)\n",
            "  Downloading portalocker-2.8.2-py3-none-any.whl (17 kB)\n",
            "Building wheels for collected packages: fvcore, iopath\n",
            "  Building wheel for fvcore (setup.py) ... \u001b[?25l\u001b[?25hdone\n",
            "  Created wheel for fvcore: filename=fvcore-0.1.5.post20221221-py3-none-any.whl size=61400 sha256=5ea6e44343bd2f0d8e424aec2e8ff51d491f8b1e411413ca5907779c43c7b011\n",
            "  Stored in directory: /root/.cache/pip/wheels/01/c0/af/77c1cf53a1be9e42a52b48e5af2169d40ec2e89f7362489dd0\n",
            "  Building wheel for iopath (setup.py) ... \u001b[?25l\u001b[?25hdone\n",
            "  Created wheel for iopath: filename=iopath-0.1.10-py3-none-any.whl size=31530 sha256=e904de74c8251fe7a706d3a54bcd25ce64c5f2dccf956ab2e270a0e085610e44\n",
            "  Stored in directory: /root/.cache/pip/wheels/9a/a3/b6/ac0fcd1b4ed5cfeb3db92e6a0e476cfd48ed0df92b91080c1d\n",
            "Successfully built fvcore iopath\n",
            "Installing collected packages: yacs, portalocker, iopath, fvcore\n",
            "Successfully installed fvcore-0.1.5.post20221221 iopath-0.1.10 portalocker-2.8.2 yacs-0.1.8\n",
            "Collecting av\n",
            "  Downloading av-10.0.0-cp310-cp310-manylinux_2_17_x86_64.manylinux2014_x86_64.whl (31.0 MB)\n",
            "\u001b[2K     \u001b[90m━━━━━━━━━━━━━━━━━━━━━━━━━━━━━━━━━━━━━━━━\u001b[0m \u001b[32m31.0/31.0 MB\u001b[0m \u001b[31m19.7 MB/s\u001b[0m eta \u001b[36m0:00:00\u001b[0m\n",
            "\u001b[?25hInstalling collected packages: av\n",
            "Successfully installed av-10.0.0\n",
            "Collecting pytorchvideo\n",
            "  Downloading pytorchvideo-0.1.5.tar.gz (132 kB)\n",
            "\u001b[2K     \u001b[90m━━━━━━━━━━━━━━━━━━━━━━━━━━━━━━━━━━━━━━━\u001b[0m \u001b[32m132.7/132.7 kB\u001b[0m \u001b[31m4.3 MB/s\u001b[0m eta \u001b[36m0:00:00\u001b[0m\n",
            "\u001b[?25h  Preparing metadata (setup.py) ... \u001b[?25l\u001b[?25hdone\n",
            "Requirement already satisfied: fvcore in /usr/local/lib/python3.10/dist-packages (from pytorchvideo) (0.1.5.post20221221)\n",
            "Requirement already satisfied: av in /usr/local/lib/python3.10/dist-packages (from pytorchvideo) (10.0.0)\n",
            "Collecting parameterized (from pytorchvideo)\n",
            "  Downloading parameterized-0.9.0-py2.py3-none-any.whl (20 kB)\n",
            "Requirement already satisfied: iopath in /usr/local/lib/python3.10/dist-packages (from pytorchvideo) (0.1.10)\n",
            "Requirement already satisfied: networkx in /usr/local/lib/python3.10/dist-packages (from pytorchvideo) (3.1)\n",
            "Requirement already satisfied: numpy in /usr/local/lib/python3.10/dist-packages (from fvcore->pytorchvideo) (1.23.5)\n",
            "Requirement already satisfied: yacs>=0.1.6 in /usr/local/lib/python3.10/dist-packages (from fvcore->pytorchvideo) (0.1.8)\n",
            "Requirement already satisfied: pyyaml>=5.1 in /usr/local/lib/python3.10/dist-packages (from fvcore->pytorchvideo) (6.0.1)\n",
            "Requirement already satisfied: tqdm in /usr/local/lib/python3.10/dist-packages (from fvcore->pytorchvideo) (4.66.1)\n",
            "Requirement already satisfied: termcolor>=1.1 in /usr/local/lib/python3.10/dist-packages (from fvcore->pytorchvideo) (2.3.0)\n",
            "Requirement already satisfied: Pillow in /usr/local/lib/python3.10/dist-packages (from fvcore->pytorchvideo) (9.4.0)\n",
            "Requirement already satisfied: tabulate in /usr/local/lib/python3.10/dist-packages (from fvcore->pytorchvideo) (0.9.0)\n",
            "Requirement already satisfied: typing-extensions in /usr/local/lib/python3.10/dist-packages (from iopath->pytorchvideo) (4.5.0)\n",
            "Requirement already satisfied: portalocker in /usr/local/lib/python3.10/dist-packages (from iopath->pytorchvideo) (2.8.2)\n",
            "Building wheels for collected packages: pytorchvideo\n",
            "  Building wheel for pytorchvideo (setup.py) ... \u001b[?25l\u001b[?25hdone\n",
            "  Created wheel for pytorchvideo: filename=pytorchvideo-0.1.5-py3-none-any.whl size=188685 sha256=19cda77cbaa7d36dd1579b2f56f5f3c05292fecb2a1d36fe5c47d9526d5f98c4\n",
            "  Stored in directory: /root/.cache/pip/wheels/ff/4e/81/0f72a543be9ed7eb737c95bfc5da4025e73226b44368074ece\n",
            "Successfully built pytorchvideo\n",
            "Installing collected packages: parameterized, pytorchvideo\n",
            "Successfully installed parameterized-0.9.0 pytorchvideo-0.1.5\n"
          ]
        }
      ]
    },
    {
      "cell_type": "code",
      "execution_count": null,
      "metadata": {
        "id": "Z_prB2gpQqxe",
        "colab": {
          "base_uri": "https://localhost:8080/"
        },
        "outputId": "af519211-6d22-4d3d-a3ed-2b15d874efa2"
      },
      "outputs": [
        {
          "output_type": "stream",
          "name": "stderr",
          "text": [
            "Using cache found in /root/.cache/torch/hub/facebookresearch_pytorchvideo_main\n"
          ]
        }
      ],
      "source": [
        "import torch\n",
        "\n",
        "model_name = 'x3d_s'\n",
        "model = torch.hub.load('facebookresearch/pytorchvideo', model_name, pretrained=True)\n",
        "\n",
        "device = \"cpu\"\n",
        "model = model.eval()\n",
        "model = model.to(device)"
      ]
    },
    {
      "cell_type": "code",
      "source": [
        "import json\n",
        "import urllib\n",
        "from pytorchvideo.data.encoded_video import EncodedVideo\n",
        "\n",
        "from torchvision.transforms import Compose, Lambda\n",
        "from torchvision.transforms._transforms_video import (\n",
        "    CenterCropVideo,\n",
        "    NormalizeVideo,\n",
        ")\n",
        "from pytorchvideo.transforms import (\n",
        "    ApplyTransformToKey,\n",
        "    ShortSideScale,\n",
        "    UniformTemporalSubsample\n",
        ")\n",
        "\n",
        "mean = [0.45, 0.45, 0.45]\n",
        "std = [0.225, 0.225, 0.225]\n",
        "frames_per_second = 30\n",
        "\n",
        "\n",
        "transform_params = {\n",
        "        \"side_size\": 182,\n",
        "        \"crop_size\": 182,\n",
        "        \"num_frames\": 13,\n",
        "        \"sampling_rate\": 6,\n",
        "    }\n",
        "\n",
        "transform =  ApplyTransformToKey(\n",
        "    key=\"video\",\n",
        "    transform=Compose(\n",
        "        [\n",
        "            UniformTemporalSubsample(transform_params[\"num_frames\"]),\n",
        "            Lambda(lambda x: x/255.0),\n",
        "            NormalizeVideo(mean, std),\n",
        "            ShortSideScale(size=transform_params[\"side_size\"]),\n",
        "            CenterCropVideo(\n",
        "                crop_size=(transform_params[\"crop_size\"], transform_params[\"crop_size\"])\n",
        "            )\n",
        "        ]\n",
        "    ),\n",
        ")\n",
        "\n",
        "clip_duration = (transform_params[\"num_frames\"] * transform_params[\"sampling_rate\"])/frames_per_second"
      ],
      "metadata": {
        "id": "5YXr_0OfceCb"
      },
      "execution_count": null,
      "outputs": []
    },
    {
      "cell_type": "code",
      "source": [
        "json_url = \"https://dl.fbaipublicfiles.com/pyslowfast/dataset/class_names/kinetics_classnames.json\"\n",
        "json_filename = \"kinetics_classnames.json\"\n",
        "try: urllib.URLopener().retrieve(json_url, json_filename)\n",
        "except: urllib.request.urlretrieve(json_url, json_filename)\n",
        "\n",
        "with open(json_filename, \"r\") as f:\n",
        "    kinetics_classnames = json.load(f)\n",
        "\n",
        "# Create an id to label name mapping\n",
        "kinetics_id_to_classname = {}\n",
        "for k, v in kinetics_classnames.items():\n",
        "    kinetics_id_to_classname[v] = str(k).replace('\"', \"\")"
      ],
      "metadata": {
        "id": "twL4SbZFdE7f"
      },
      "execution_count": null,
      "outputs": []
    },
    {
      "cell_type": "code",
      "source": [
        "url_link = \"https://dl.fbaipublicfiles.com/pytorchvideo/projects/archery.mp4\"\n",
        "video_path = 'archery.mp4'\n",
        "try: urllib.URLopener().retrieve(url_link, video_path)\n",
        "except: urllib.request.urlretrieve(url_link, video_path)"
      ],
      "metadata": {
        "id": "dXzTLHUdczjs"
      },
      "execution_count": null,
      "outputs": []
    },
    {
      "cell_type": "code",
      "source": [
        "start_sec = 1\n",
        "end_sec = start_sec + clip_duration\n",
        "\n",
        "video = EncodedVideo.from_path(video_path)\n",
        "\n",
        "video_data = video.get_clip(start_sec=start_sec, end_sec=end_sec)\n",
        "video_data = transform(video_data)\n",
        "\n",
        "inputs = video_data[\"video\"]\n",
        "inputs = inputs.to(device)"
      ],
      "metadata": {
        "id": "RvMxCrLjc0TN"
      },
      "execution_count": null,
      "outputs": []
    },
    {
      "cell_type": "code",
      "source": [
        "print(model)\n",
        "\n",
        "preds = model(inputs[None,...])\n",
        "\n",
        "post_act = torch.nn.Softmax(dim=1)\n",
        "preds = post_act(preds)\n",
        "pred_classes = preds.topk(k=3).indices[0]\n",
        "\n",
        "pred_class_names = [kinetics_id_to_classname[int(i)] for i in pred_classes]\n",
        "print(\"Top predicted label: %s\" % \", \".join(pred_class_names))"
      ],
      "metadata": {
        "id": "rLuzZsXTdKOv"
      },
      "execution_count": null,
      "outputs": []
    },
    {
      "cell_type": "code",
      "source": [
        "import torch\n",
        "from torchvision.models import resnet50\n",
        "from torchvision.models.feature_extraction import get_graph_node_names\n",
        "from torchvision.models.feature_extraction import create_feature_extractor\n",
        "from torchvision.models.detection.mask_rcnn import MaskRCNN\n",
        "from torchvision.models.detection.backbone_utils import LastLevelMaxPool\n",
        "from torchvision.ops.feature_pyramid_network import FeaturePyramidNetwork\n",
        "\n",
        "m = torch.hub.load('facebookresearch/pytorchvideo', model_name, pretrained=True).eval()\n",
        "train_nodes, eval_nodes = get_graph_node_names(m)\n",
        "\n",
        "print(train_nodes)\n",
        "\n",
        "class Resnet50WithFPN(torch.nn.Module):\n",
        "    def __init__(self):\n",
        "        super(Resnet50WithFPN, self).__init__()\n",
        "        # Get a resnet50 backbone\n",
        "        m = torch.hub.load('facebookresearch/pytorchvideo', model_name, pretrained=True).eval()\n",
        "\n",
        "        # Extract 4 main layers (note: MaskRCNN needs this particular name\n",
        "        # mapping for return nodes)\n",
        "        self.body = create_feature_extractor(\n",
        "            m, return_nodes={'blocks.5.proj': 'blank',})\n",
        "        # Dry run to get number of channels for FPN\n",
        "        inp = inputs[None,...]\n",
        "        with torch.no_grad():\n",
        "            out = self.body(inp)\n",
        "        in_channels_list = [o.shape[1] for o in out.values()]\n",
        "        # Build FPN\n",
        "\n",
        "\n",
        "    def forward(self, x):\n",
        "        x = self.body(x)\n",
        "        return x\n",
        "\n",
        "nu = Resnet50WithFPN()\n",
        "prediction = nu(inputs[None,...])\n",
        "prediction['blank'].shape\n"
      ],
      "metadata": {
        "colab": {
          "base_uri": "https://localhost:8080/"
        },
        "id": "UR4FxJNKu9sa",
        "outputId": "d54d44b7-7876-4309-cd54-63978b6cc675"
      },
      "execution_count": null,
      "outputs": [
        {
          "output_type": "stream",
          "name": "stderr",
          "text": [
            "Using cache found in /root/.cache/torch/hub/facebookresearch_pytorchvideo_main\n"
          ]
        },
        {
          "output_type": "stream",
          "name": "stdout",
          "text": [
            "['x', 'blocks.0.conv.conv_t', 'blocks.0.conv.conv_xy', 'blocks.0.norm', 'blocks.0.activation', 'blocks.1.res_blocks.0.branch1_conv', 'blocks.1.res_blocks.0.branch2.conv_a', 'blocks.1.res_blocks.0.branch2.norm_a', 'blocks.1.res_blocks.0.branch2.act_a', 'blocks.1.res_blocks.0.branch2.conv_b', 'blocks.1.res_blocks.0.branch2.norm_b.0', 'blocks.1.res_blocks.0.branch2.norm_b.1.mean', 'blocks.1.res_blocks.0.branch2.norm_b.1.block.0', 'blocks.1.res_blocks.0.branch2.norm_b.1.block.1', 'blocks.1.res_blocks.0.branch2.norm_b.1.block.2', 'blocks.1.res_blocks.0.branch2.norm_b.1.block.3', 'blocks.1.res_blocks.0.branch2.norm_b.1.mul', 'blocks.1.res_blocks.0.branch2.act_b.sigmoid', 'blocks.1.res_blocks.0.branch2.act_b.mul', 'blocks.1.res_blocks.0.branch2.conv_c', 'blocks.1.res_blocks.0.branch2.norm_c', 'blocks.1.res_blocks.0.add', 'blocks.1.res_blocks.0.activation', 'blocks.1.res_blocks.1.branch2.conv_a', 'blocks.1.res_blocks.1.branch2.norm_a', 'blocks.1.res_blocks.1.branch2.act_a', 'blocks.1.res_blocks.1.branch2.conv_b', 'blocks.1.res_blocks.1.branch2.norm_b.0', 'blocks.1.res_blocks.1.branch2.norm_b.1', 'blocks.1.res_blocks.1.branch2.act_b.sigmoid', 'blocks.1.res_blocks.1.branch2.act_b.mul', 'blocks.1.res_blocks.1.branch2.conv_c', 'blocks.1.res_blocks.1.branch2.norm_c', 'blocks.1.res_blocks.1.add', 'blocks.1.res_blocks.1.activation', 'blocks.1.res_blocks.2.branch2.conv_a', 'blocks.1.res_blocks.2.branch2.norm_a', 'blocks.1.res_blocks.2.branch2.act_a', 'blocks.1.res_blocks.2.branch2.conv_b', 'blocks.1.res_blocks.2.branch2.norm_b.0', 'blocks.1.res_blocks.2.branch2.norm_b.1.mean', 'blocks.1.res_blocks.2.branch2.norm_b.1.block.0', 'blocks.1.res_blocks.2.branch2.norm_b.1.block.1', 'blocks.1.res_blocks.2.branch2.norm_b.1.block.2', 'blocks.1.res_blocks.2.branch2.norm_b.1.block.3', 'blocks.1.res_blocks.2.branch2.norm_b.1.mul', 'blocks.1.res_blocks.2.branch2.act_b.sigmoid', 'blocks.1.res_blocks.2.branch2.act_b.mul', 'blocks.1.res_blocks.2.branch2.conv_c', 'blocks.1.res_blocks.2.branch2.norm_c', 'blocks.1.res_blocks.2.add', 'blocks.1.res_blocks.2.activation', 'blocks.2.res_blocks.0.branch1_conv', 'blocks.2.res_blocks.0.branch1_norm', 'blocks.2.res_blocks.0.branch2.conv_a', 'blocks.2.res_blocks.0.branch2.norm_a', 'blocks.2.res_blocks.0.branch2.act_a', 'blocks.2.res_blocks.0.branch2.conv_b', 'blocks.2.res_blocks.0.branch2.norm_b.0', 'blocks.2.res_blocks.0.branch2.norm_b.1.mean', 'blocks.2.res_blocks.0.branch2.norm_b.1.block.0', 'blocks.2.res_blocks.0.branch2.norm_b.1.block.1', 'blocks.2.res_blocks.0.branch2.norm_b.1.block.2', 'blocks.2.res_blocks.0.branch2.norm_b.1.block.3', 'blocks.2.res_blocks.0.branch2.norm_b.1.mul', 'blocks.2.res_blocks.0.branch2.act_b.sigmoid', 'blocks.2.res_blocks.0.branch2.act_b.mul', 'blocks.2.res_blocks.0.branch2.conv_c', 'blocks.2.res_blocks.0.branch2.norm_c', 'blocks.2.res_blocks.0.add', 'blocks.2.res_blocks.0.activation', 'blocks.2.res_blocks.1.branch2.conv_a', 'blocks.2.res_blocks.1.branch2.norm_a', 'blocks.2.res_blocks.1.branch2.act_a', 'blocks.2.res_blocks.1.branch2.conv_b', 'blocks.2.res_blocks.1.branch2.norm_b.0', 'blocks.2.res_blocks.1.branch2.norm_b.1', 'blocks.2.res_blocks.1.branch2.act_b.sigmoid', 'blocks.2.res_blocks.1.branch2.act_b.mul', 'blocks.2.res_blocks.1.branch2.conv_c', 'blocks.2.res_blocks.1.branch2.norm_c', 'blocks.2.res_blocks.1.add', 'blocks.2.res_blocks.1.activation', 'blocks.2.res_blocks.2.branch2.conv_a', 'blocks.2.res_blocks.2.branch2.norm_a', 'blocks.2.res_blocks.2.branch2.act_a', 'blocks.2.res_blocks.2.branch2.conv_b', 'blocks.2.res_blocks.2.branch2.norm_b.0', 'blocks.2.res_blocks.2.branch2.norm_b.1.mean', 'blocks.2.res_blocks.2.branch2.norm_b.1.block.0', 'blocks.2.res_blocks.2.branch2.norm_b.1.block.1', 'blocks.2.res_blocks.2.branch2.norm_b.1.block.2', 'blocks.2.res_blocks.2.branch2.norm_b.1.block.3', 'blocks.2.res_blocks.2.branch2.norm_b.1.mul', 'blocks.2.res_blocks.2.branch2.act_b.sigmoid', 'blocks.2.res_blocks.2.branch2.act_b.mul', 'blocks.2.res_blocks.2.branch2.conv_c', 'blocks.2.res_blocks.2.branch2.norm_c', 'blocks.2.res_blocks.2.add', 'blocks.2.res_blocks.2.activation', 'blocks.2.res_blocks.3.branch2.conv_a', 'blocks.2.res_blocks.3.branch2.norm_a', 'blocks.2.res_blocks.3.branch2.act_a', 'blocks.2.res_blocks.3.branch2.conv_b', 'blocks.2.res_blocks.3.branch2.norm_b.0', 'blocks.2.res_blocks.3.branch2.norm_b.1', 'blocks.2.res_blocks.3.branch2.act_b.sigmoid', 'blocks.2.res_blocks.3.branch2.act_b.mul', 'blocks.2.res_blocks.3.branch2.conv_c', 'blocks.2.res_blocks.3.branch2.norm_c', 'blocks.2.res_blocks.3.add', 'blocks.2.res_blocks.3.activation', 'blocks.2.res_blocks.4.branch2.conv_a', 'blocks.2.res_blocks.4.branch2.norm_a', 'blocks.2.res_blocks.4.branch2.act_a', 'blocks.2.res_blocks.4.branch2.conv_b', 'blocks.2.res_blocks.4.branch2.norm_b.0', 'blocks.2.res_blocks.4.branch2.norm_b.1.mean', 'blocks.2.res_blocks.4.branch2.norm_b.1.block.0', 'blocks.2.res_blocks.4.branch2.norm_b.1.block.1', 'blocks.2.res_blocks.4.branch2.norm_b.1.block.2', 'blocks.2.res_blocks.4.branch2.norm_b.1.block.3', 'blocks.2.res_blocks.4.branch2.norm_b.1.mul', 'blocks.2.res_blocks.4.branch2.act_b.sigmoid', 'blocks.2.res_blocks.4.branch2.act_b.mul', 'blocks.2.res_blocks.4.branch2.conv_c', 'blocks.2.res_blocks.4.branch2.norm_c', 'blocks.2.res_blocks.4.add', 'blocks.2.res_blocks.4.activation', 'blocks.3.res_blocks.0.branch1_conv', 'blocks.3.res_blocks.0.branch1_norm', 'blocks.3.res_blocks.0.branch2.conv_a', 'blocks.3.res_blocks.0.branch2.norm_a', 'blocks.3.res_blocks.0.branch2.act_a', 'blocks.3.res_blocks.0.branch2.conv_b', 'blocks.3.res_blocks.0.branch2.norm_b.0', 'blocks.3.res_blocks.0.branch2.norm_b.1.mean', 'blocks.3.res_blocks.0.branch2.norm_b.1.block.0', 'blocks.3.res_blocks.0.branch2.norm_b.1.block.1', 'blocks.3.res_blocks.0.branch2.norm_b.1.block.2', 'blocks.3.res_blocks.0.branch2.norm_b.1.block.3', 'blocks.3.res_blocks.0.branch2.norm_b.1.mul', 'blocks.3.res_blocks.0.branch2.act_b.sigmoid', 'blocks.3.res_blocks.0.branch2.act_b.mul', 'blocks.3.res_blocks.0.branch2.conv_c', 'blocks.3.res_blocks.0.branch2.norm_c', 'blocks.3.res_blocks.0.add', 'blocks.3.res_blocks.0.activation', 'blocks.3.res_blocks.1.branch2.conv_a', 'blocks.3.res_blocks.1.branch2.norm_a', 'blocks.3.res_blocks.1.branch2.act_a', 'blocks.3.res_blocks.1.branch2.conv_b', 'blocks.3.res_blocks.1.branch2.norm_b.0', 'blocks.3.res_blocks.1.branch2.norm_b.1', 'blocks.3.res_blocks.1.branch2.act_b.sigmoid', 'blocks.3.res_blocks.1.branch2.act_b.mul', 'blocks.3.res_blocks.1.branch2.conv_c', 'blocks.3.res_blocks.1.branch2.norm_c', 'blocks.3.res_blocks.1.add', 'blocks.3.res_blocks.1.activation', 'blocks.3.res_blocks.2.branch2.conv_a', 'blocks.3.res_blocks.2.branch2.norm_a', 'blocks.3.res_blocks.2.branch2.act_a', 'blocks.3.res_blocks.2.branch2.conv_b', 'blocks.3.res_blocks.2.branch2.norm_b.0', 'blocks.3.res_blocks.2.branch2.norm_b.1.mean', 'blocks.3.res_blocks.2.branch2.norm_b.1.block.0', 'blocks.3.res_blocks.2.branch2.norm_b.1.block.1', 'blocks.3.res_blocks.2.branch2.norm_b.1.block.2', 'blocks.3.res_blocks.2.branch2.norm_b.1.block.3', 'blocks.3.res_blocks.2.branch2.norm_b.1.mul', 'blocks.3.res_blocks.2.branch2.act_b.sigmoid', 'blocks.3.res_blocks.2.branch2.act_b.mul', 'blocks.3.res_blocks.2.branch2.conv_c', 'blocks.3.res_blocks.2.branch2.norm_c', 'blocks.3.res_blocks.2.add', 'blocks.3.res_blocks.2.activation', 'blocks.3.res_blocks.3.branch2.conv_a', 'blocks.3.res_blocks.3.branch2.norm_a', 'blocks.3.res_blocks.3.branch2.act_a', 'blocks.3.res_blocks.3.branch2.conv_b', 'blocks.3.res_blocks.3.branch2.norm_b.0', 'blocks.3.res_blocks.3.branch2.norm_b.1', 'blocks.3.res_blocks.3.branch2.act_b.sigmoid', 'blocks.3.res_blocks.3.branch2.act_b.mul', 'blocks.3.res_blocks.3.branch2.conv_c', 'blocks.3.res_blocks.3.branch2.norm_c', 'blocks.3.res_blocks.3.add', 'blocks.3.res_blocks.3.activation', 'blocks.3.res_blocks.4.branch2.conv_a', 'blocks.3.res_blocks.4.branch2.norm_a', 'blocks.3.res_blocks.4.branch2.act_a', 'blocks.3.res_blocks.4.branch2.conv_b', 'blocks.3.res_blocks.4.branch2.norm_b.0', 'blocks.3.res_blocks.4.branch2.norm_b.1.mean', 'blocks.3.res_blocks.4.branch2.norm_b.1.block.0', 'blocks.3.res_blocks.4.branch2.norm_b.1.block.1', 'blocks.3.res_blocks.4.branch2.norm_b.1.block.2', 'blocks.3.res_blocks.4.branch2.norm_b.1.block.3', 'blocks.3.res_blocks.4.branch2.norm_b.1.mul', 'blocks.3.res_blocks.4.branch2.act_b.sigmoid', 'blocks.3.res_blocks.4.branch2.act_b.mul', 'blocks.3.res_blocks.4.branch2.conv_c', 'blocks.3.res_blocks.4.branch2.norm_c', 'blocks.3.res_blocks.4.add', 'blocks.3.res_blocks.4.activation', 'blocks.3.res_blocks.5.branch2.conv_a', 'blocks.3.res_blocks.5.branch2.norm_a', 'blocks.3.res_blocks.5.branch2.act_a', 'blocks.3.res_blocks.5.branch2.conv_b', 'blocks.3.res_blocks.5.branch2.norm_b.0', 'blocks.3.res_blocks.5.branch2.norm_b.1', 'blocks.3.res_blocks.5.branch2.act_b.sigmoid', 'blocks.3.res_blocks.5.branch2.act_b.mul', 'blocks.3.res_blocks.5.branch2.conv_c', 'blocks.3.res_blocks.5.branch2.norm_c', 'blocks.3.res_blocks.5.add', 'blocks.3.res_blocks.5.activation', 'blocks.3.res_blocks.6.branch2.conv_a', 'blocks.3.res_blocks.6.branch2.norm_a', 'blocks.3.res_blocks.6.branch2.act_a', 'blocks.3.res_blocks.6.branch2.conv_b', 'blocks.3.res_blocks.6.branch2.norm_b.0', 'blocks.3.res_blocks.6.branch2.norm_b.1.mean', 'blocks.3.res_blocks.6.branch2.norm_b.1.block.0', 'blocks.3.res_blocks.6.branch2.norm_b.1.block.1', 'blocks.3.res_blocks.6.branch2.norm_b.1.block.2', 'blocks.3.res_blocks.6.branch2.norm_b.1.block.3', 'blocks.3.res_blocks.6.branch2.norm_b.1.mul', 'blocks.3.res_blocks.6.branch2.act_b.sigmoid', 'blocks.3.res_blocks.6.branch2.act_b.mul', 'blocks.3.res_blocks.6.branch2.conv_c', 'blocks.3.res_blocks.6.branch2.norm_c', 'blocks.3.res_blocks.6.add', 'blocks.3.res_blocks.6.activation', 'blocks.3.res_blocks.7.branch2.conv_a', 'blocks.3.res_blocks.7.branch2.norm_a', 'blocks.3.res_blocks.7.branch2.act_a', 'blocks.3.res_blocks.7.branch2.conv_b', 'blocks.3.res_blocks.7.branch2.norm_b.0', 'blocks.3.res_blocks.7.branch2.norm_b.1', 'blocks.3.res_blocks.7.branch2.act_b.sigmoid', 'blocks.3.res_blocks.7.branch2.act_b.mul', 'blocks.3.res_blocks.7.branch2.conv_c', 'blocks.3.res_blocks.7.branch2.norm_c', 'blocks.3.res_blocks.7.add', 'blocks.3.res_blocks.7.activation', 'blocks.3.res_blocks.8.branch2.conv_a', 'blocks.3.res_blocks.8.branch2.norm_a', 'blocks.3.res_blocks.8.branch2.act_a', 'blocks.3.res_blocks.8.branch2.conv_b', 'blocks.3.res_blocks.8.branch2.norm_b.0', 'blocks.3.res_blocks.8.branch2.norm_b.1.mean', 'blocks.3.res_blocks.8.branch2.norm_b.1.block.0', 'blocks.3.res_blocks.8.branch2.norm_b.1.block.1', 'blocks.3.res_blocks.8.branch2.norm_b.1.block.2', 'blocks.3.res_blocks.8.branch2.norm_b.1.block.3', 'blocks.3.res_blocks.8.branch2.norm_b.1.mul', 'blocks.3.res_blocks.8.branch2.act_b.sigmoid', 'blocks.3.res_blocks.8.branch2.act_b.mul', 'blocks.3.res_blocks.8.branch2.conv_c', 'blocks.3.res_blocks.8.branch2.norm_c', 'blocks.3.res_blocks.8.add', 'blocks.3.res_blocks.8.activation', 'blocks.3.res_blocks.9.branch2.conv_a', 'blocks.3.res_blocks.9.branch2.norm_a', 'blocks.3.res_blocks.9.branch2.act_a', 'blocks.3.res_blocks.9.branch2.conv_b', 'blocks.3.res_blocks.9.branch2.norm_b.0', 'blocks.3.res_blocks.9.branch2.norm_b.1', 'blocks.3.res_blocks.9.branch2.act_b.sigmoid', 'blocks.3.res_blocks.9.branch2.act_b.mul', 'blocks.3.res_blocks.9.branch2.conv_c', 'blocks.3.res_blocks.9.branch2.norm_c', 'blocks.3.res_blocks.9.add', 'blocks.3.res_blocks.9.activation', 'blocks.3.res_blocks.10.branch2.conv_a', 'blocks.3.res_blocks.10.branch2.norm_a', 'blocks.3.res_blocks.10.branch2.act_a', 'blocks.3.res_blocks.10.branch2.conv_b', 'blocks.3.res_blocks.10.branch2.norm_b.0', 'blocks.3.res_blocks.10.branch2.norm_b.1.mean', 'blocks.3.res_blocks.10.branch2.norm_b.1.block.0', 'blocks.3.res_blocks.10.branch2.norm_b.1.block.1', 'blocks.3.res_blocks.10.branch2.norm_b.1.block.2', 'blocks.3.res_blocks.10.branch2.norm_b.1.block.3', 'blocks.3.res_blocks.10.branch2.norm_b.1.mul', 'blocks.3.res_blocks.10.branch2.act_b.sigmoid', 'blocks.3.res_blocks.10.branch2.act_b.mul', 'blocks.3.res_blocks.10.branch2.conv_c', 'blocks.3.res_blocks.10.branch2.norm_c', 'blocks.3.res_blocks.10.add', 'blocks.3.res_blocks.10.activation', 'blocks.4.res_blocks.0.branch1_conv', 'blocks.4.res_blocks.0.branch1_norm', 'blocks.4.res_blocks.0.branch2.conv_a', 'blocks.4.res_blocks.0.branch2.norm_a', 'blocks.4.res_blocks.0.branch2.act_a', 'blocks.4.res_blocks.0.branch2.conv_b', 'blocks.4.res_blocks.0.branch2.norm_b.0', 'blocks.4.res_blocks.0.branch2.norm_b.1.mean', 'blocks.4.res_blocks.0.branch2.norm_b.1.block.0', 'blocks.4.res_blocks.0.branch2.norm_b.1.block.1', 'blocks.4.res_blocks.0.branch2.norm_b.1.block.2', 'blocks.4.res_blocks.0.branch2.norm_b.1.block.3', 'blocks.4.res_blocks.0.branch2.norm_b.1.mul', 'blocks.4.res_blocks.0.branch2.act_b.sigmoid', 'blocks.4.res_blocks.0.branch2.act_b.mul', 'blocks.4.res_blocks.0.branch2.conv_c', 'blocks.4.res_blocks.0.branch2.norm_c', 'blocks.4.res_blocks.0.add', 'blocks.4.res_blocks.0.activation', 'blocks.4.res_blocks.1.branch2.conv_a', 'blocks.4.res_blocks.1.branch2.norm_a', 'blocks.4.res_blocks.1.branch2.act_a', 'blocks.4.res_blocks.1.branch2.conv_b', 'blocks.4.res_blocks.1.branch2.norm_b.0', 'blocks.4.res_blocks.1.branch2.norm_b.1', 'blocks.4.res_blocks.1.branch2.act_b.sigmoid', 'blocks.4.res_blocks.1.branch2.act_b.mul', 'blocks.4.res_blocks.1.branch2.conv_c', 'blocks.4.res_blocks.1.branch2.norm_c', 'blocks.4.res_blocks.1.add', 'blocks.4.res_blocks.1.activation', 'blocks.4.res_blocks.2.branch2.conv_a', 'blocks.4.res_blocks.2.branch2.norm_a', 'blocks.4.res_blocks.2.branch2.act_a', 'blocks.4.res_blocks.2.branch2.conv_b', 'blocks.4.res_blocks.2.branch2.norm_b.0', 'blocks.4.res_blocks.2.branch2.norm_b.1.mean', 'blocks.4.res_blocks.2.branch2.norm_b.1.block.0', 'blocks.4.res_blocks.2.branch2.norm_b.1.block.1', 'blocks.4.res_blocks.2.branch2.norm_b.1.block.2', 'blocks.4.res_blocks.2.branch2.norm_b.1.block.3', 'blocks.4.res_blocks.2.branch2.norm_b.1.mul', 'blocks.4.res_blocks.2.branch2.act_b.sigmoid', 'blocks.4.res_blocks.2.branch2.act_b.mul', 'blocks.4.res_blocks.2.branch2.conv_c', 'blocks.4.res_blocks.2.branch2.norm_c', 'blocks.4.res_blocks.2.add', 'blocks.4.res_blocks.2.activation', 'blocks.4.res_blocks.3.branch2.conv_a', 'blocks.4.res_blocks.3.branch2.norm_a', 'blocks.4.res_blocks.3.branch2.act_a', 'blocks.4.res_blocks.3.branch2.conv_b', 'blocks.4.res_blocks.3.branch2.norm_b.0', 'blocks.4.res_blocks.3.branch2.norm_b.1', 'blocks.4.res_blocks.3.branch2.act_b.sigmoid', 'blocks.4.res_blocks.3.branch2.act_b.mul', 'blocks.4.res_blocks.3.branch2.conv_c', 'blocks.4.res_blocks.3.branch2.norm_c', 'blocks.4.res_blocks.3.add', 'blocks.4.res_blocks.3.activation', 'blocks.4.res_blocks.4.branch2.conv_a', 'blocks.4.res_blocks.4.branch2.norm_a', 'blocks.4.res_blocks.4.branch2.act_a', 'blocks.4.res_blocks.4.branch2.conv_b', 'blocks.4.res_blocks.4.branch2.norm_b.0', 'blocks.4.res_blocks.4.branch2.norm_b.1.mean', 'blocks.4.res_blocks.4.branch2.norm_b.1.block.0', 'blocks.4.res_blocks.4.branch2.norm_b.1.block.1', 'blocks.4.res_blocks.4.branch2.norm_b.1.block.2', 'blocks.4.res_blocks.4.branch2.norm_b.1.block.3', 'blocks.4.res_blocks.4.branch2.norm_b.1.mul', 'blocks.4.res_blocks.4.branch2.act_b.sigmoid', 'blocks.4.res_blocks.4.branch2.act_b.mul', 'blocks.4.res_blocks.4.branch2.conv_c', 'blocks.4.res_blocks.4.branch2.norm_c', 'blocks.4.res_blocks.4.add', 'blocks.4.res_blocks.4.activation', 'blocks.4.res_blocks.5.branch2.conv_a', 'blocks.4.res_blocks.5.branch2.norm_a', 'blocks.4.res_blocks.5.branch2.act_a', 'blocks.4.res_blocks.5.branch2.conv_b', 'blocks.4.res_blocks.5.branch2.norm_b.0', 'blocks.4.res_blocks.5.branch2.norm_b.1', 'blocks.4.res_blocks.5.branch2.act_b.sigmoid', 'blocks.4.res_blocks.5.branch2.act_b.mul', 'blocks.4.res_blocks.5.branch2.conv_c', 'blocks.4.res_blocks.5.branch2.norm_c', 'blocks.4.res_blocks.5.add', 'blocks.4.res_blocks.5.activation', 'blocks.4.res_blocks.6.branch2.conv_a', 'blocks.4.res_blocks.6.branch2.norm_a', 'blocks.4.res_blocks.6.branch2.act_a', 'blocks.4.res_blocks.6.branch2.conv_b', 'blocks.4.res_blocks.6.branch2.norm_b.0', 'blocks.4.res_blocks.6.branch2.norm_b.1.mean', 'blocks.4.res_blocks.6.branch2.norm_b.1.block.0', 'blocks.4.res_blocks.6.branch2.norm_b.1.block.1', 'blocks.4.res_blocks.6.branch2.norm_b.1.block.2', 'blocks.4.res_blocks.6.branch2.norm_b.1.block.3', 'blocks.4.res_blocks.6.branch2.norm_b.1.mul', 'blocks.4.res_blocks.6.branch2.act_b.sigmoid', 'blocks.4.res_blocks.6.branch2.act_b.mul', 'blocks.4.res_blocks.6.branch2.conv_c', 'blocks.4.res_blocks.6.branch2.norm_c', 'blocks.4.res_blocks.6.add', 'blocks.4.res_blocks.6.activation', 'blocks.5.pool.pre_conv', 'blocks.5.pool.pre_norm', 'blocks.5.pool.pre_act', 'blocks.5.pool.pool', 'blocks.5.pool.post_conv', 'blocks.5.pool.post_act', 'blocks.5.dropout', 'blocks.5.permute', 'blocks.5.proj', 'blocks.5.permute_1', 'blocks.5.output_pool', 'blocks.5.getattr', 'blocks.5.getitem', 'blocks.5.view']\n"
          ]
        },
        {
          "output_type": "stream",
          "name": "stderr",
          "text": [
            "Using cache found in /root/.cache/torch/hub/facebookresearch_pytorchvideo_main\n"
          ]
        },
        {
          "output_type": "execute_result",
          "data": {
            "text/plain": [
              "torch.Size([1, 1, 2, 2, 400])"
            ]
          },
          "metadata": {},
          "execution_count": 85
        }
      ]
    }
  ]
}