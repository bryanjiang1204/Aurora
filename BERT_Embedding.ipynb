{
  "cells": [
    {
      "cell_type": "markdown",
      "metadata": {
        "id": "view-in-github",
        "colab_type": "text"
      },
      "source": [
        "<a href=\"https://colab.research.google.com/github/bryanjiang1204/aurora/blob/main/BERT_Embedding.ipynb\" target=\"_parent\"><img src=\"https://colab.research.google.com/assets/colab-badge.svg\" alt=\"Open In Colab\"/></a>"
      ]
    },
    {
      "cell_type": "code",
      "execution_count": null,
      "metadata": {
        "id": "1-tXu_FzLxKJ"
      },
      "outputs": [],
      "source": [
        "!pip install transformers"
      ]
    },
    {
      "cell_type": "code",
      "execution_count": null,
      "metadata": {
        "id": "Jjc56SKHd_no"
      },
      "outputs": [],
      "source": [
        "from transformers import BertTokenizer, BertModel\n",
        "\n",
        "tokenizer = BertTokenizer.from_pretrained('bert-base-uncased')\n",
        "model = BertModel.from_pretrained('bert-base-uncased')"
      ]
    },
    {
      "cell_type": "code",
      "execution_count": null,
      "metadata": {
        "id": "034Oct-CMChF"
      },
      "outputs": [],
      "source": [
        "\"\"\"\n",
        "Bert Embeddings\n",
        "\"\"\"\n",
        "import torch\n",
        "\n",
        "input_text = \"Wise Gurus chant\"\n",
        "input_ids = torch.tensor([tokenizer.encode(input_text)])\n",
        "with torch.no_grad():\n",
        "    model_output = model(input_ids)\n",
        "bert_embeddings = model_output[0]"
      ]
    },
    {
      "cell_type": "code",
      "execution_count": null,
      "metadata": {
        "colab": {
          "background_save": true
        },
        "id": "F9XIIzCXeIJg"
      },
      "outputs": [],
      "source": [
        "from torchtext.datasets import IMDB\n",
        "\n",
        "train_iter = IMDB(split='train')\n",
        "test_iter = IMDB(split='test')\n",
        "\n",
        "def tokenize(label, line):\n",
        "    return line.split()\n",
        "\n",
        "tokens = []\n",
        "for label, line in train_iter:\n",
        "    tokens += torch.tensor(tokenizer.encode(line))"
      ]
    },
    {
      "cell_type": "code",
      "execution_count": null,
      "metadata": {
        "id": "nE5qM5VHMKZZ"
      },
      "outputs": [],
      "source": [
        "class MyModel(nn.Module):\n",
        "    def __init__(self, embedding_dim, vocab_size):\n",
        "        super(MyModel, self).__init__()\n",
        "        self.embedding = nn.Embedding(vocab_size, embedding_dim)\n",
        "        self.lstm = nn.LSTM(embedding_dim, hidden_size)\n",
        "        self.fc = nn.Linear(hidden_size, num_classes)\n",
        "\n",
        "    def forward(self, x):\n",
        "        x = self.embedding(x)  # x shape: (batch_size, seq_len, embedding_dim)\n",
        "        x, _ = self.lstm(x)    # x shape: (batch_size, seq_len, hidden_size)\n",
        "        x = x[:, -1, :]        # x shape: (batch_size, hidden_size)\n",
        "        x = self.fc(x)         # x shape: (batch_size, num_classes)\n",
        "        return x\n",
        "\n",
        "embedding_dim = 768\n",
        "vocab_size = len(tokenizer.vocab)\n",
        "model = MyModel(embedding_dim, vocab_size)\n",
        "\n",
        "# Set the embedding layer weights to the BERT embeddings\n",
        "model.embedding.weight.data.copy_(bert_embeddings)\n",
        "model.embedding.weight.requires_grad = False"
      ]
    }
  ],
  "metadata": {
    "colab": {
      "provenance": [],
      "authorship_tag": "ABX9TyM12GjlqGAFG2iQU1Lgan/n",
      "include_colab_link": true
    },
    "kernelspec": {
      "display_name": "Python 3",
      "name": "python3"
    },
    "language_info": {
      "name": "python"
    }
  },
  "nbformat": 4,
  "nbformat_minor": 0
}